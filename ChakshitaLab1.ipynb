{
 "cells": [
  {
   "cell_type": "markdown",
   "id": "239c3740-7276-4c11-a640-7c7dc16d08a3",
   "metadata": {},
   "source": [
    "# Hello Everyone! This is my Notebook"
   ]
  },
  {
   "cell_type": "markdown",
   "id": "c90ee0b3-d7ee-4ac8-821c-d2988ed8e8e1",
   "metadata": {},
   "source": [
    "# This is Chakshita, and I'm performing my Assignment 1"
   ]
  },
  {
   "cell_type": "markdown",
   "id": "d44a966e-1e16-4313-9af4-d4a18f500649",
   "metadata": {},
   "source": [
    "## Data Science Languages\n",
    "- Python\n",
    "- R\n",
    "- Julia\n",
    "- SQL\n"
   ]
  },
  {
   "cell_type": "markdown",
   "id": "c4c674a6-bb7f-4f8f-b7a1-c3a1e3d0865b",
   "metadata": {},
   "source": [
    "## Data Science Libraries\n",
    "- NumPy\n",
    "- Pandas\n",
    "- Scikit-learn\n",
    "- TensorFlow\n",
    "- PyTorch\n"
   ]
  },
  {
   "cell_type": "markdown",
   "id": "5bd033f4-43e9-458c-bf01-f4c2422749b9",
   "metadata": {},
   "source": [
    "## Data Science Tools\n",
    "\n",
    "| Category          | Tools                       |\n",
    "|-------------------|-----------------------------|\n",
    "| Data Manipulation | Pandas, NumPy                |\n",
    "| Machine Learning   | Scikit-learn, TensorFlow    |\n",
    "| Deep Learning      | PyTorch                     |\n",
    "| Database           | SQL                         |\n"
   ]
  },
  {
   "cell_type": "markdown",
   "id": "d0076cb3-56ce-4a30-a79c-033a812e1d48",
   "metadata": {},
   "source": [
    "## Example for Arithmetic Expression is given below:\n",
    "In the following I will perform some basic arithmetic expressions.\n"
   ]
  },
  {
   "cell_type": "code",
   "execution_count": 4,
   "id": "ef55dfb4-1257-410c-ae23-98bfdd569a89",
   "metadata": {
    "tags": []
   },
   "outputs": [
    {
     "data": {
      "text/plain": [
       "(6, 5)"
      ]
     },
     "execution_count": 4,
     "metadata": {},
     "output_type": "execute_result"
    }
   ],
   "source": [
    "a = 2\n",
    "b = 3\n",
    "multiply = a * b\n",
    "add = a + b\n",
    "\n",
    "multiply, add\n"
   ]
  },
  {
   "cell_type": "code",
   "execution_count": 5,
   "id": "18bb33ff-95f2-41e6-a73f-646f44f90866",
   "metadata": {
    "tags": []
   },
   "outputs": [
    {
     "data": {
      "text/plain": [
       "2.0"
      ]
     },
     "execution_count": 5,
     "metadata": {},
     "output_type": "execute_result"
    }
   ],
   "source": [
    "min = 120\n",
    "hours = min / 60\n",
    "\n",
    "hours\n"
   ]
  },
  {
   "cell_type": "markdown",
   "id": "10000604-3dd4-4dd4-8d46-35efd4de7fde",
   "metadata": {},
   "source": [
    "## Objectives learned\n",
    "1. Explore data science languages and libraries.\n",
    "2. Understand the basics of arithmetic expressions.\n",
    "3. Perform simple calculations like multiply and add, etc.\n"
   ]
  },
  {
   "cell_type": "markdown",
   "id": "51790616-d396-48a8-b787-f6a2aa5cca1f",
   "metadata": {},
   "source": [
    "## Author\n",
    "Chakshita \n"
   ]
  },
  {
   "cell_type": "code",
   "execution_count": null,
   "id": "a5c82c0f-18cc-40f5-8014-82174edfcc92",
   "metadata": {},
   "outputs": [],
   "source": []
  }
 ],
 "metadata": {
  "kernelspec": {
   "display_name": "Python",
   "language": "python",
   "name": "conda-env-python-py"
  },
  "language_info": {
   "codemirror_mode": {
    "name": "ipython",
    "version": 3
   },
   "file_extension": ".py",
   "mimetype": "text/x-python",
   "name": "python",
   "nbconvert_exporter": "python",
   "pygments_lexer": "ipython3",
   "version": "3.7.12"
  }
 },
 "nbformat": 4,
 "nbformat_minor": 5
}
